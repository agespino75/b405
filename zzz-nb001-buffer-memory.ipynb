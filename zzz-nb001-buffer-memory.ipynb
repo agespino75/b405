{
 "cells": [
  {
   "cell_type": "markdown",
   "id": "465c003a-29cf-4cfe-a0c6-d36c04ae2b37",
   "metadata": {},
   "source": [
    "# Memory\n",
    "* Save your conversation with the LLM."
   ]
  },
  {
   "cell_type": "markdown",
   "id": "c759d27a-94f3-4141-945d-065f2095bffd",
   "metadata": {
    "jp-MarkdownHeadingCollapsed": true
   },
   "source": [
    "## Intro\n",
    "* Ability to store information about past interactions.\n",
    "* **Most of memory-related functionality in LangChain is marked as beta**. This is for two reasons:\n",
    "    1. Most functionality are not production ready.\n",
    "    2. Most functionality work with Legacy chains, not the newer LCEL syntax.\n",
    "* **The main exception to this is the ChatMessageHistory functionality**. This functionality is largely production ready and does integrate with LCEL."
   ]
  },
  {
   "cell_type": "markdown",
   "id": "5a2f9501-fa9e-4830-95e2-537dff951cf1",
   "metadata": {},
   "source": [
    "## LangChain documentation on Memory\n",
    "* See the LangChain documentation page on Memory [here](https://python.langchain.com/v0.1/docs/modules/memory/).\n",
    "* See the LangChain documentation page on how to use ChatMessageHistory with LCEL [here](https://python.langchain.com/v0.1/docs/expression_language/how_to/message_history/).\n",
    "* See the LangChain documentation page on the various ChatMessageHistory integrations [here](https://python.langchain.com/v0.1/docs/integrations/memory/)."
   ]
  },
  {
   "cell_type": "markdown",
   "id": "be46161e-45e9-46d7-8214-bcbea10aff2e",
   "metadata": {},
   "source": [
    "## Setup"
   ]
  },
  {
   "cell_type": "markdown",
   "id": "871e0018-cba4-4959-881a-0a65093d202d",
   "metadata": {},
   "source": [
    "#### After you download the code from the github repository in your computer\n",
    "In terminal:\n",
    "* cd project_name\n",
    "* pyenv local 3.11.4\n",
    "* poetry install\n",
    "* poetry shell"
   ]
  },
  {
   "cell_type": "markdown",
   "id": "f44f9bf4-bcc6-4283-b894-0c4dd985f445",
   "metadata": {},
   "source": [
    "#### To open the notebook with Jupyter Notebooks\n",
    "In terminal:\n",
    "* jupyter lab\n",
    "\n",
    "Go to the folder of notebooks and open the right notebook."
   ]
  },
  {
   "cell_type": "markdown",
   "id": "d0233ade-b3d9-4dd9-963c-ff8836f4fd5e",
   "metadata": {},
   "source": [
    "#### To see the code in Virtual Studio Code or your editor of choice.\n",
    "* open Virtual Studio Code or your editor of choice.\n",
    "* open the project-folder\n",
    "* open the 001-simple-chain.py file"
   ]
  },
  {
   "cell_type": "markdown",
   "id": "90d1d742-ee3b-42e4-9db6-7c1c8d5b3923",
   "metadata": {},
   "source": [
    "## Create your .env file\n",
    "* In the github repo we have included a file named .env.example\n",
    "* Rename that file to .env file and here is where you will add your confidential api keys. Remember to include:\n",
    "* OPENAI_API_KEY=your_openai_api_key\n",
    "* LANGCHAIN_TRACING_V2=true\n",
    "* LANGCHAIN_ENDPOINT=https://api.smith.langchain.com\n",
    "* LANGCHAIN_API_KEY=your_langchain_api_key\n",
    "* LANGCHAIN_PROJECT=your_project_name"
   ]
  },
  {
   "cell_type": "markdown",
   "id": "863dd299-0780-49ad-a1b7-b76e249350da",
   "metadata": {},
   "source": [
    "We will call our LangSmith project **001-conversation-buffer**."
   ]
  },
  {
   "cell_type": "markdown",
   "id": "6d46b134-c502-47f1-b67f-c5b03bff1d0a",
   "metadata": {},
   "source": [
    "## Track operations\n",
    "From now on, we can track the operations **and the cost** of this project from LangSmith:\n",
    "* [smith.langchain.com](https://smith.langchain.com)"
   ]
  },
  {
   "cell_type": "markdown",
   "id": "76fca939-bd83-4d5b-8e34-57cdbe855260",
   "metadata": {},
   "source": [
    "## Connect with the .env file located in the same directory of this notebook"
   ]
  },
  {
   "cell_type": "markdown",
   "id": "7ead3bd7-e4af-45b5-a770-64742c3bca77",
   "metadata": {},
   "source": [
    "If you are using the pre-loaded poetry shell, you do not need to install the following package because it is already pre-loaded for you:"
   ]
  },
  {
   "cell_type": "code",
   "execution_count": 1,
   "id": "7365e2af-d5f2-481e-9892-babd5f781ca7",
   "metadata": {},
   "outputs": [],
   "source": [
    "#pip install python-dotenv"
   ]
  },
  {
   "cell_type": "code",
   "id": "fecd39d0-e72e-4bc2-8a68-2fa4008ea365",
   "metadata": {
    "ExecuteTime": {
     "end_time": "2025-06-16T04:34:51.467744Z",
     "start_time": "2025-06-16T04:34:51.452672Z"
    }
   },
   "source": [
    "import os\n",
    "from dotenv import load_dotenv, find_dotenv\n",
    "_ = load_dotenv(find_dotenv())\n",
    "openai_api_key = os.environ[\"OPENAI_API_KEY\"]"
   ],
   "outputs": [],
   "execution_count": 3
  },
  {
   "cell_type": "markdown",
   "id": "03f4a923-b19e-498e-9be5-e47ec4a77d80",
   "metadata": {},
   "source": [
    "#### Install LangChain"
   ]
  },
  {
   "cell_type": "markdown",
   "id": "8d5c1af4-733f-4139-9eda-9a546614a3f5",
   "metadata": {},
   "source": [
    "If you are using the pre-loaded poetry shell, you do not need to install the following package because it is already pre-loaded for you:"
   ]
  },
  {
   "cell_type": "code",
   "execution_count": 3,
   "id": "c1cf94ae-6c39-4475-9c5b-4b74d8d78753",
   "metadata": {},
   "outputs": [],
   "source": [
    "#!pip install langchain"
   ]
  },
  {
   "cell_type": "markdown",
   "id": "189e9e17-dfb0-4fd3-85b9-1fba83771941",
   "metadata": {},
   "source": [
    "## Connect with an LLM"
   ]
  },
  {
   "cell_type": "markdown",
   "id": "20eb4a8e-7d41-40f7-aae7-ca4cd3e4cf21",
   "metadata": {},
   "source": [
    "If you are using the pre-loaded poetry shell, you do not need to install the following package because it is already pre-loaded for you:"
   ]
  },
  {
   "cell_type": "code",
   "execution_count": 4,
   "id": "148df8e0-361d-4ddd-8709-af48fa1648d1",
   "metadata": {},
   "outputs": [],
   "source": [
    "#!pip install langchain-openai"
   ]
  },
  {
   "cell_type": "markdown",
   "id": "a1998155-91de-4cbc-bc88-8d77beefb51b",
   "metadata": {},
   "source": [
    "* NOTE: Since right now is the best LLM in the market, we will use OpenAI by default. You will see how to connect with other Open Source LLMs like Llama3 or Mistral in a next lesson."
   ]
  },
  {
   "cell_type": "code",
   "id": "6ae8595e-5c07-4b02-8a79-db55fd357527",
   "metadata": {
    "ExecuteTime": {
     "end_time": "2025-06-16T04:35:39.726204Z",
     "start_time": "2025-06-16T04:35:39.720852Z"
    }
   },
   "source": [
    "from langchain_openai import ChatOpenAI\n",
    "\n",
    "llm = ChatOpenAI(model=\"gpt-4o-mini\")"
   ],
   "outputs": [],
   "execution_count": 5
  },
  {
   "cell_type": "markdown",
   "id": "b3e131c1-3458-4941-848b-a0c54cea0d1c",
   "metadata": {},
   "source": [
    "## Buffer Memory\n",
    "* ConversationBufferMemory keeps a list of chat messages in a buffer and passes those into the prompt template.\n",
    "* A buffer refers to a **temporary storage area in memory** used to hold data. Here, the buffer specifically holds chat messages before they are processed or used in some way, such as being passed into a prompt template.\n",
    "* In simple terms, a buffer is like a waiting room for data. It's a temporary holding spot where data can stay until it's ready to be used or processed. Imagine you're cooking and you chop up vegetables before you need to cook them. Instead of chopping each vegetable right before it goes in the pan, you chop them all at once and put them aside on a cutting board. That cutting board with the chopped vegetables is like a buffer — it holds everything ready for you until you're ready to use it. This way, when you need the vegetables, they are all prepared and ready to go, making the cooking process smoother and faster.\n",
    "* As you can see in the following example, ConversationBufferMemory was used mostly in the initial versions of LangChain."
   ]
  },
  {
   "cell_type": "code",
   "id": "e9422509-359b-49a4-ad33-404244c91645",
   "metadata": {
    "ExecuteTime": {
     "end_time": "2025-06-16T04:41:06.307735Z",
     "start_time": "2025-06-16T04:41:06.205631Z"
    }
   },
   "source": [
    "from langchain_core.prompts import (\n",
    "    ChatPromptTemplate,\n",
    "    MessagesPlaceholder,\n",
    "    SystemMessagePromptTemplate,\n",
    "    HumanMessagePromptTemplate,\n",
    ")\n",
    "from langchain.chains import LLMChain\n",
    "from langchain.memory import ConversationBufferMemory\n",
    "\n",
    "\n",
    "prompt = ChatPromptTemplate(\n",
    "    messages=[\n",
    "        SystemMessagePromptTemplate.from_template(\n",
    "            \"You are a nice chatbot having a conversation with a human.\"\n",
    "        ),\n",
    "        # The `variable_name` here is what must align with memory\n",
    "        MessagesPlaceholder(variable_name=\"chat_history\"),\n",
    "        HumanMessagePromptTemplate.from_template(\"{question}\")\n",
    "    ]\n",
    ")\n",
    "# Notice that we `return_messages=True` to fit into the MessagesPlaceholder\n",
    "# Notice that `\"chat_history\"` aligns with the MessagesPlaceholder name.\n",
    "memory = ConversationBufferMemory(memory_key=\"chat_history\", return_messages=True)\n",
    "\n",
    "conversation = LLMChain(\n",
    "    llm=llm,\n",
    "    prompt=prompt,\n",
    "    verbose=True,\n",
    "    memory=memory\n",
    ")"
   ],
   "outputs": [
    {
     "name": "stderr",
     "output_type": "stream",
     "text": [
      "/var/folders/r4/zk4dfhln1l78pwrms6p0867h0000gn/T/ipykernel_1997/1371371747.py:23: LangChainDeprecationWarning: Please see the migration guide at: https://python.langchain.com/docs/versions/migrating_memory/\n",
      "  memory = ConversationBufferMemory(memory_key=\"chat_history\", return_messages=True)\n",
      "/var/folders/r4/zk4dfhln1l78pwrms6p0867h0000gn/T/ipykernel_1997/1371371747.py:25: LangChainDeprecationWarning: The class `LLMChain` was deprecated in LangChain 0.1.17 and will be removed in 1.0. Use :meth:`~RunnableSequence, e.g., `prompt | llm`` instead.\n",
      "  conversation = LLMChain(\n"
     ]
    }
   ],
   "execution_count": 6
  },
  {
   "cell_type": "code",
   "id": "25c4c85a-ad84-4aa2-98b8-24ce8428a9d9",
   "metadata": {
    "ExecuteTime": {
     "end_time": "2025-06-16T04:41:54.685787Z",
     "start_time": "2025-06-16T04:41:53.060983Z"
    }
   },
   "source": [
    "# Notice that we just pass in the `question` variables - `chat_history` gets populated by memory\n",
    "conversation({\"question\": \"hi\"})"
   ],
   "outputs": [
    {
     "name": "stderr",
     "output_type": "stream",
     "text": [
      "/var/folders/r4/zk4dfhln1l78pwrms6p0867h0000gn/T/ipykernel_1997/1120294461.py:2: LangChainDeprecationWarning: The method `Chain.__call__` was deprecated in langchain 0.1.0 and will be removed in 1.0. Use :meth:`~invoke` instead.\n",
      "  conversation({\"question\": \"hi\"})\n"
     ]
    },
    {
     "name": "stdout",
     "output_type": "stream",
     "text": [
      "\n",
      "\n",
      "\u001B[1m> Entering new LLMChain chain...\u001B[0m\n",
      "Prompt after formatting:\n",
      "\u001B[32;1m\u001B[1;3mSystem: You are a nice chatbot having a conversation with a human.\n",
      "Human: hi\u001B[0m\n",
      "\n",
      "\u001B[1m> Finished chain.\u001B[0m\n"
     ]
    },
    {
     "data": {
      "text/plain": [
       "{'question': 'hi',\n",
       " 'chat_history': [HumanMessage(content='hi', additional_kwargs={}, response_metadata={}),\n",
       "  AIMessage(content='Hello! How can I assist you today?', additional_kwargs={}, response_metadata={})],\n",
       " 'text': 'Hello! How can I assist you today?'}"
      ]
     },
     "execution_count": 7,
     "metadata": {},
     "output_type": "execute_result"
    }
   ],
   "execution_count": 7
  },
  {
   "cell_type": "code",
   "id": "b22e732b-f3e5-42e2-a30e-43cf544fd84d",
   "metadata": {
    "ExecuteTime": {
     "end_time": "2025-06-16T04:44:05.115408Z",
     "start_time": "2025-06-16T04:44:03.612661Z"
    }
   },
   "source": "conversation({\"question\": \"My name is Beto and I have moved 33 times.\"})",
   "outputs": [
    {
     "name": "stdout",
     "output_type": "stream",
     "text": [
      "\n",
      "\n",
      "\u001B[1m> Entering new LLMChain chain...\u001B[0m\n",
      "Prompt after formatting:\n",
      "\u001B[32;1m\u001B[1;3mSystem: You are a nice chatbot having a conversation with a human.\n",
      "Human: hi\n",
      "AI: Hello! How can I assist you today?\n",
      "Human: My name is Beto and I have moved 33 times.\u001B[0m\n",
      "\n",
      "\u001B[1m> Finished chain.\u001B[0m\n"
     ]
    },
    {
     "data": {
      "text/plain": [
       "{'question': 'My name is Beto and I have moved 33 times.',\n",
       " 'chat_history': [HumanMessage(content='hi', additional_kwargs={}, response_metadata={}),\n",
       "  AIMessage(content='Hello! How can I assist you today?', additional_kwargs={}, response_metadata={}),\n",
       "  HumanMessage(content='My name is Beto and I have moved 33 times.', additional_kwargs={}, response_metadata={}),\n",
       "  AIMessage(content='Hi Beto! That’s quite a lot of moving! What’s been the most interesting place you’ve lived in?', additional_kwargs={}, response_metadata={})],\n",
       " 'text': 'Hi Beto! That’s quite a lot of moving! What’s been the most interesting place you’ve lived in?'}"
      ]
     },
     "execution_count": 8,
     "metadata": {},
     "output_type": "execute_result"
    }
   ],
   "execution_count": 8
  },
  {
   "cell_type": "code",
   "id": "9320c2ec-7e35-46a5-8a19-eb1c85144c78",
   "metadata": {
    "ExecuteTime": {
     "end_time": "2025-06-16T04:44:36.990923Z",
     "start_time": "2025-06-16T04:44:34.750796Z"
    }
   },
   "source": [
    "conversation({\"question\": \"If my average moving distance was 100 miles, how many miles took all my moves?\"})"
   ],
   "outputs": [
    {
     "name": "stdout",
     "output_type": "stream",
     "text": [
      "\n",
      "\n",
      "\u001B[1m> Entering new LLMChain chain...\u001B[0m\n",
      "Prompt after formatting:\n",
      "\u001B[32;1m\u001B[1;3mSystem: You are a nice chatbot having a conversation with a human.\n",
      "Human: hi\n",
      "AI: Hello! How can I assist you today?\n",
      "Human: My name is Beto and I have moved 33 times.\n",
      "AI: Hi Beto! That’s quite a lot of moving! What’s been the most interesting place you’ve lived in?\n",
      "Human: If my average moving distance was 100 miles, how many miles took all my moves?\u001B[0m\n",
      "\n",
      "\u001B[1m> Finished chain.\u001B[0m\n"
     ]
    },
    {
     "data": {
      "text/plain": [
       "{'question': 'If my average moving distance was 100 miles, how many miles took all my moves?',\n",
       " 'chat_history': [HumanMessage(content='hi', additional_kwargs={}, response_metadata={}),\n",
       "  AIMessage(content='Hello! How can I assist you today?', additional_kwargs={}, response_metadata={}),\n",
       "  HumanMessage(content='My name is Beto and I have moved 33 times.', additional_kwargs={}, response_metadata={}),\n",
       "  AIMessage(content='Hi Beto! That’s quite a lot of moving! What’s been the most interesting place you’ve lived in?', additional_kwargs={}, response_metadata={}),\n",
       "  HumanMessage(content='If my average moving distance was 100 miles, how many miles took all my moves?', additional_kwargs={}, response_metadata={}),\n",
       "  AIMessage(content=\"If you've moved 33 times with an average distance of 100 miles each time, you can calculate the total distance by multiplying the number of moves by the average distance:\\n\\n33 moves × 100 miles/move = 3,300 miles\\n\\nSo, you’ve moved a total of 3,300 miles! That's quite a journey!\", additional_kwargs={}, response_metadata={})],\n",
       " 'text': \"If you've moved 33 times with an average distance of 100 miles each time, you can calculate the total distance by multiplying the number of moves by the average distance:\\n\\n33 moves × 100 miles/move = 3,300 miles\\n\\nSo, you’ve moved a total of 3,300 miles! That's quite a journey!\"}"
      ]
     },
     "execution_count": 9,
     "metadata": {},
     "output_type": "execute_result"
    }
   ],
   "execution_count": 9
  },
  {
   "cell_type": "code",
   "id": "d50060c5-aa4a-44da-92c5-355fe8a28ddc",
   "metadata": {
    "ExecuteTime": {
     "end_time": "2025-06-16T04:44:59.342479Z",
     "start_time": "2025-06-16T04:44:58.595201Z"
    }
   },
   "source": [
    "conversation({\"question\": \"Do you remember my name?\"})"
   ],
   "outputs": [
    {
     "name": "stdout",
     "output_type": "stream",
     "text": [
      "\n",
      "\n",
      "\u001B[1m> Entering new LLMChain chain...\u001B[0m\n",
      "Prompt after formatting:\n",
      "\u001B[32;1m\u001B[1;3mSystem: You are a nice chatbot having a conversation with a human.\n",
      "Human: hi\n",
      "AI: Hello! How can I assist you today?\n",
      "Human: My name is Beto and I have moved 33 times.\n",
      "AI: Hi Beto! That’s quite a lot of moving! What’s been the most interesting place you’ve lived in?\n",
      "Human: If my average moving distance was 100 miles, how many miles took all my moves?\n",
      "AI: If you've moved 33 times with an average distance of 100 miles each time, you can calculate the total distance by multiplying the number of moves by the average distance:\n",
      "\n",
      "33 moves × 100 miles/move = 3,300 miles\n",
      "\n",
      "So, you’ve moved a total of 3,300 miles! That's quite a journey!\n",
      "Human: Do you remember my name?\u001B[0m\n",
      "\n",
      "\u001B[1m> Finished chain.\u001B[0m\n"
     ]
    },
    {
     "data": {
      "text/plain": [
       "{'question': 'Do you remember my name?',\n",
       " 'chat_history': [HumanMessage(content='hi', additional_kwargs={}, response_metadata={}),\n",
       "  AIMessage(content='Hello! How can I assist you today?', additional_kwargs={}, response_metadata={}),\n",
       "  HumanMessage(content='My name is Beto and I have moved 33 times.', additional_kwargs={}, response_metadata={}),\n",
       "  AIMessage(content='Hi Beto! That’s quite a lot of moving! What’s been the most interesting place you’ve lived in?', additional_kwargs={}, response_metadata={}),\n",
       "  HumanMessage(content='If my average moving distance was 100 miles, how many miles took all my moves?', additional_kwargs={}, response_metadata={}),\n",
       "  AIMessage(content=\"If you've moved 33 times with an average distance of 100 miles each time, you can calculate the total distance by multiplying the number of moves by the average distance:\\n\\n33 moves × 100 miles/move = 3,300 miles\\n\\nSo, you’ve moved a total of 3,300 miles! That's quite a journey!\", additional_kwargs={}, response_metadata={}),\n",
       "  HumanMessage(content='Do you remember my name?', additional_kwargs={}, response_metadata={}),\n",
       "  AIMessage(content='Yes, your name is Beto! How can I help you further today?', additional_kwargs={}, response_metadata={})],\n",
       " 'text': 'Yes, your name is Beto! How can I help you further today?'}"
      ]
     },
     "execution_count": 10,
     "metadata": {},
     "output_type": "execute_result"
    }
   ],
   "execution_count": 10
  },
  {
   "cell_type": "code",
   "id": "8d1ad132-fd8b-4355-bab0-ef8605d3650e",
   "metadata": {
    "ExecuteTime": {
     "end_time": "2025-06-16T04:45:15.942271Z",
     "start_time": "2025-06-16T04:45:15.933664Z"
    }
   },
   "source": [
    "print(memory.buffer)"
   ],
   "outputs": [
    {
     "name": "stdout",
     "output_type": "stream",
     "text": [
      "[HumanMessage(content='hi', additional_kwargs={}, response_metadata={}), AIMessage(content='Hello! How can I assist you today?', additional_kwargs={}, response_metadata={}), HumanMessage(content='My name is Beto and I have moved 33 times.', additional_kwargs={}, response_metadata={}), AIMessage(content='Hi Beto! That’s quite a lot of moving! What’s been the most interesting place you’ve lived in?', additional_kwargs={}, response_metadata={}), HumanMessage(content='If my average moving distance was 100 miles, how many miles took all my moves?', additional_kwargs={}, response_metadata={}), AIMessage(content=\"If you've moved 33 times with an average distance of 100 miles each time, you can calculate the total distance by multiplying the number of moves by the average distance:\\n\\n33 moves × 100 miles/move = 3,300 miles\\n\\nSo, you’ve moved a total of 3,300 miles! That's quite a journey!\", additional_kwargs={}, response_metadata={}), HumanMessage(content='Do you remember my name?', additional_kwargs={}, response_metadata={}), AIMessage(content='Yes, your name is Beto! How can I help you further today?', additional_kwargs={}, response_metadata={})]\n"
     ]
    }
   ],
   "execution_count": 11
  },
  {
   "cell_type": "code",
   "id": "83e4331e-8e2e-4502-8de4-fda0da8aff8c",
   "metadata": {
    "ExecuteTime": {
     "end_time": "2025-06-16T04:45:27.687758Z",
     "start_time": "2025-06-16T04:45:27.681924Z"
    }
   },
   "source": [
    "memory.load_memory_variables({})"
   ],
   "outputs": [
    {
     "data": {
      "text/plain": [
       "{'chat_history': [HumanMessage(content='hi', additional_kwargs={}, response_metadata={}),\n",
       "  AIMessage(content='Hello! How can I assist you today?', additional_kwargs={}, response_metadata={}),\n",
       "  HumanMessage(content='My name is Beto and I have moved 33 times.', additional_kwargs={}, response_metadata={}),\n",
       "  AIMessage(content='Hi Beto! That’s quite a lot of moving! What’s been the most interesting place you’ve lived in?', additional_kwargs={}, response_metadata={}),\n",
       "  HumanMessage(content='If my average moving distance was 100 miles, how many miles took all my moves?', additional_kwargs={}, response_metadata={}),\n",
       "  AIMessage(content=\"If you've moved 33 times with an average distance of 100 miles each time, you can calculate the total distance by multiplying the number of moves by the average distance:\\n\\n33 moves × 100 miles/move = 3,300 miles\\n\\nSo, you’ve moved a total of 3,300 miles! That's quite a journey!\", additional_kwargs={}, response_metadata={}),\n",
       "  HumanMessage(content='Do you remember my name?', additional_kwargs={}, response_metadata={}),\n",
       "  AIMessage(content='Yes, your name is Beto! How can I help you further today?', additional_kwargs={}, response_metadata={})]}"
      ]
     },
     "execution_count": 12,
     "metadata": {},
     "output_type": "execute_result"
    }
   ],
   "execution_count": 12
  },
  {
   "metadata": {
    "ExecuteTime": {
     "end_time": "2025-06-16T04:47:53.417348Z",
     "start_time": "2025-06-16T04:47:52.176079Z"
    }
   },
   "cell_type": "code",
   "source": "conversation({\"question\": \"The most interesting place I've lived in is Vancouver. I can't wait to return to that amazing place\"})",
   "id": "aa1bfc4dd1abb82b",
   "outputs": [
    {
     "name": "stdout",
     "output_type": "stream",
     "text": [
      "\n",
      "\n",
      "\u001B[1m> Entering new LLMChain chain...\u001B[0m\n",
      "Prompt after formatting:\n",
      "\u001B[32;1m\u001B[1;3mSystem: You are a nice chatbot having a conversation with a human.\n",
      "Human: hi\n",
      "AI: Hello! How can I assist you today?\n",
      "Human: My name is Beto and I have moved 33 times.\n",
      "AI: Hi Beto! That’s quite a lot of moving! What’s been the most interesting place you’ve lived in?\n",
      "Human: If my average moving distance was 100 miles, how many miles took all my moves?\n",
      "AI: If you've moved 33 times with an average distance of 100 miles each time, you can calculate the total distance by multiplying the number of moves by the average distance:\n",
      "\n",
      "33 moves × 100 miles/move = 3,300 miles\n",
      "\n",
      "So, you’ve moved a total of 3,300 miles! That's quite a journey!\n",
      "Human: Do you remember my name?\n",
      "AI: Yes, your name is Beto! How can I help you further today?\n",
      "Human: The most interesting place I've lived in is Vancouver. I can't wait to return to that amazing place\u001B[0m\n",
      "\n",
      "\u001B[1m> Finished chain.\u001B[0m\n"
     ]
    },
    {
     "data": {
      "text/plain": [
       "{'question': \"The most interesting place I've lived in is Vancouver. I can't wait to return to that amazing place\",\n",
       " 'chat_history': [HumanMessage(content='hi', additional_kwargs={}, response_metadata={}),\n",
       "  AIMessage(content='Hello! How can I assist you today?', additional_kwargs={}, response_metadata={}),\n",
       "  HumanMessage(content='My name is Beto and I have moved 33 times.', additional_kwargs={}, response_metadata={}),\n",
       "  AIMessage(content='Hi Beto! That’s quite a lot of moving! What’s been the most interesting place you’ve lived in?', additional_kwargs={}, response_metadata={}),\n",
       "  HumanMessage(content='If my average moving distance was 100 miles, how many miles took all my moves?', additional_kwargs={}, response_metadata={}),\n",
       "  AIMessage(content=\"If you've moved 33 times with an average distance of 100 miles each time, you can calculate the total distance by multiplying the number of moves by the average distance:\\n\\n33 moves × 100 miles/move = 3,300 miles\\n\\nSo, you’ve moved a total of 3,300 miles! That's quite a journey!\", additional_kwargs={}, response_metadata={}),\n",
       "  HumanMessage(content='Do you remember my name?', additional_kwargs={}, response_metadata={}),\n",
       "  AIMessage(content='Yes, your name is Beto! How can I help you further today?', additional_kwargs={}, response_metadata={}),\n",
       "  HumanMessage(content=\"The most interesting place I've lived in is Vancouver. I can't wait to return to that amazing place\", additional_kwargs={}, response_metadata={}),\n",
       "  AIMessage(content='Vancouver is a beautiful city! The stunning natural scenery, diverse culture, and vibrant community make it a special place. What do you love most about Vancouver?', additional_kwargs={}, response_metadata={})],\n",
       " 'text': 'Vancouver is a beautiful city! The stunning natural scenery, diverse culture, and vibrant community make it a special place. What do you love most about Vancouver?'}"
      ]
     },
     "execution_count": 13,
     "metadata": {},
     "output_type": "execute_result"
    }
   ],
   "execution_count": 13
  },
  {
   "cell_type": "markdown",
   "id": "b440a384-8c9f-4802-8fa9-9a042d200ced",
   "metadata": {},
   "source": [
    "## Conversation Buffer Window Memory\n",
    "Similar to the previous one, but **you can limit the number of conversational exchanges stored in memory**. For example, you can set it so it only remembers the last 3 questions and answers of the conversation."
   ]
  },
  {
   "cell_type": "code",
   "id": "224f6a07-66a5-4302-adcb-08a1544ae288",
   "metadata": {
    "ExecuteTime": {
     "end_time": "2025-06-16T04:49:32.437472Z",
     "start_time": "2025-06-16T04:49:32.398059Z"
    }
   },
   "source": [
    "from langchain.memory import ConversationBufferWindowMemory\n",
    "from langchain.chains import ConversationChain"
   ],
   "outputs": [],
   "execution_count": 14
  },
  {
   "cell_type": "code",
   "id": "615a06d0-092f-4cb7-857c-6750c4643c1e",
   "metadata": {
    "ExecuteTime": {
     "end_time": "2025-06-16T04:49:39.329733Z",
     "start_time": "2025-06-16T04:49:39.325385Z"
    }
   },
   "source": [
    "window_memory = ConversationBufferWindowMemory(k=3)"
   ],
   "outputs": [
    {
     "name": "stderr",
     "output_type": "stream",
     "text": [
      "/var/folders/r4/zk4dfhln1l78pwrms6p0867h0000gn/T/ipykernel_1997/2492508394.py:1: LangChainDeprecationWarning: Please see the migration guide at: https://python.langchain.com/docs/versions/migrating_memory/\n",
      "  window_memory = ConversationBufferWindowMemory(k=3)\n"
     ]
    }
   ],
   "execution_count": 15
  },
  {
   "cell_type": "code",
   "id": "f3567844-9ca9-4454-a973-c03de283bf6f",
   "metadata": {
    "ExecuteTime": {
     "end_time": "2025-06-16T04:49:59.332923Z",
     "start_time": "2025-06-16T04:49:59.323581Z"
    }
   },
   "source": [
    "conversation_window = ConversationChain(\n",
    "    llm=llm, \n",
    "    memory = window_memory,\n",
    "    verbose=True\n",
    ")"
   ],
   "outputs": [
    {
     "name": "stderr",
     "output_type": "stream",
     "text": [
      "/var/folders/r4/zk4dfhln1l78pwrms6p0867h0000gn/T/ipykernel_1997/2841821209.py:1: LangChainDeprecationWarning: The class `ConversationChain` was deprecated in LangChain 0.2.7 and will be removed in 1.0. Use :meth:`~RunnableWithMessageHistory: https://python.langchain.com/v0.2/api_reference/core/runnables/langchain_core.runnables.history.RunnableWithMessageHistory.html` instead.\n",
      "  conversation_window = ConversationChain(\n"
     ]
    }
   ],
   "execution_count": 16
  },
  {
   "cell_type": "code",
   "id": "58ef7681-d99a-484f-bb64-08dbcb794654",
   "metadata": {
    "ExecuteTime": {
     "end_time": "2025-06-16T04:50:18.450461Z",
     "start_time": "2025-06-16T04:50:17.545023Z"
    }
   },
   "source": "conversation_window({\"input\": \"Hi, my name is Beto\"})",
   "outputs": [
    {
     "name": "stdout",
     "output_type": "stream",
     "text": [
      "\n",
      "\n",
      "\u001B[1m> Entering new ConversationChain chain...\u001B[0m\n",
      "Prompt after formatting:\n",
      "\u001B[32;1m\u001B[1;3mThe following is a friendly conversation between a human and an AI. The AI is talkative and provides lots of specific details from its context. If the AI does not know the answer to a question, it truthfully says it does not know.\n",
      "\n",
      "Current conversation:\n",
      "\n",
      "Human: Hi, my name is Beto\n",
      "AI:\u001B[0m\n",
      "\n",
      "\u001B[1m> Finished chain.\u001B[0m\n"
     ]
    },
    {
     "data": {
      "text/plain": [
       "{'input': 'Hi, my name is Beto',\n",
       " 'history': '',\n",
       " 'response': \"Hello Beto! It's great to meet you! How's your day going so far?\"}"
      ]
     },
     "execution_count": 17,
     "metadata": {},
     "output_type": "execute_result"
    }
   ],
   "execution_count": 17
  },
  {
   "cell_type": "code",
   "id": "2b3807d3-6ee3-49c4-9adb-59013f7e54d1",
   "metadata": {
    "ExecuteTime": {
     "end_time": "2025-06-16T04:50:41.229605Z",
     "start_time": "2025-06-16T04:50:39.848765Z"
    }
   },
   "source": "conversation_window({\"input\": \"My favorite color is black\"})",
   "outputs": [
    {
     "name": "stdout",
     "output_type": "stream",
     "text": [
      "\n",
      "\n",
      "\u001B[1m> Entering new ConversationChain chain...\u001B[0m\n",
      "Prompt after formatting:\n",
      "\u001B[32;1m\u001B[1;3mThe following is a friendly conversation between a human and an AI. The AI is talkative and provides lots of specific details from its context. If the AI does not know the answer to a question, it truthfully says it does not know.\n",
      "\n",
      "Current conversation:\n",
      "Human: Hi, my name is Beto\n",
      "AI: Hello Beto! It's great to meet you! How's your day going so far?\n",
      "Human: My favorite color is black\n",
      "AI:\u001B[0m\n",
      "\n",
      "\u001B[1m> Finished chain.\u001B[0m\n"
     ]
    },
    {
     "data": {
      "text/plain": [
       "{'input': 'My favorite color is black',\n",
       " 'history': \"Human: Hi, my name is Beto\\nAI: Hello Beto! It's great to meet you! How's your day going so far?\",\n",
       " 'response': \"Black is such a classic choice—it's elegant and can be quite versatile! Do you like wearing black, or do you prefer it in your decor? It can really set a mood, either way!\"}"
      ]
     },
     "execution_count": 18,
     "metadata": {},
     "output_type": "execute_result"
    }
   ],
   "execution_count": 18
  },
  {
   "cell_type": "code",
   "id": "6221d09e-5663-43cb-aaa5-e605bb0a2e18",
   "metadata": {
    "ExecuteTime": {
     "end_time": "2025-06-16T04:51:02.691806Z",
     "start_time": "2025-06-16T04:51:01.644557Z"
    }
   },
   "source": [
    "conversation_window({\"input\": \"My favorite animals are dogs\"})"
   ],
   "outputs": [
    {
     "name": "stdout",
     "output_type": "stream",
     "text": [
      "\n",
      "\n",
      "\u001B[1m> Entering new ConversationChain chain...\u001B[0m\n",
      "Prompt after formatting:\n",
      "\u001B[32;1m\u001B[1;3mThe following is a friendly conversation between a human and an AI. The AI is talkative and provides lots of specific details from its context. If the AI does not know the answer to a question, it truthfully says it does not know.\n",
      "\n",
      "Current conversation:\n",
      "Human: Hi, my name is Beto\n",
      "AI: Hello Beto! It's great to meet you! How's your day going so far?\n",
      "Human: My favorite color is black\n",
      "AI: Black is such a classic choice—it's elegant and can be quite versatile! Do you like wearing black, or do you prefer it in your decor? It can really set a mood, either way!\n",
      "Human: My favorite animals are dogs\n",
      "AI:\u001B[0m\n",
      "\n",
      "\u001B[1m> Finished chain.\u001B[0m\n"
     ]
    },
    {
     "data": {
      "text/plain": [
       "{'input': 'My favorite animals are dogs',\n",
       " 'history': \"Human: Hi, my name is Beto\\nAI: Hello Beto! It's great to meet you! How's your day going so far?\\nHuman: My favorite color is black\\nAI: Black is such a classic choice—it's elegant and can be quite versatile! Do you like wearing black, or do you prefer it in your decor? It can really set a mood, either way!\",\n",
       " 'response': 'Dogs are wonderful companions! They’re known for their loyalty and playful nature. Do you have a dog, or is there a particular breed you love the most? There are so many types, from the spirited Beagle to the gentle Great Dane!'}"
      ]
     },
     "execution_count": 19,
     "metadata": {},
     "output_type": "execute_result"
    }
   ],
   "execution_count": 19
  },
  {
   "cell_type": "code",
   "id": "b2aa84d1-5d9d-4c1e-8d29-c806c69a2e95",
   "metadata": {
    "ExecuteTime": {
     "end_time": "2025-06-16T04:51:49.327265Z",
     "start_time": "2025-06-16T04:51:47.481265Z"
    }
   },
   "source": "conversation_window({\"input\": \"I'd like to drive a red Ferrari in the city\"})",
   "outputs": [
    {
     "name": "stdout",
     "output_type": "stream",
     "text": [
      "\n",
      "\n",
      "\u001B[1m> Entering new ConversationChain chain...\u001B[0m\n",
      "Prompt after formatting:\n",
      "\u001B[32;1m\u001B[1;3mThe following is a friendly conversation between a human and an AI. The AI is talkative and provides lots of specific details from its context. If the AI does not know the answer to a question, it truthfully says it does not know.\n",
      "\n",
      "Current conversation:\n",
      "Human: Hi, my name is Beto\n",
      "AI: Hello Beto! It's great to meet you! How's your day going so far?\n",
      "Human: My favorite color is black\n",
      "AI: Black is such a classic choice—it's elegant and can be quite versatile! Do you like wearing black, or do you prefer it in your decor? It can really set a mood, either way!\n",
      "Human: My favorite animals are dogs\n",
      "AI: Dogs are wonderful companions! They’re known for their loyalty and playful nature. Do you have a dog, or is there a particular breed you love the most? There are so many types, from the spirited Beagle to the gentle Great Dane!\n",
      "Human: I'd like to drive a red Ferrari in the city\n",
      "AI:\u001B[0m\n",
      "\n",
      "\u001B[1m> Finished chain.\u001B[0m\n"
     ]
    },
    {
     "data": {
      "text/plain": [
       "{'input': \"I'd like to drive a red Ferrari in the city\",\n",
       " 'history': \"Human: Hi, my name is Beto\\nAI: Hello Beto! It's great to meet you! How's your day going so far?\\nHuman: My favorite color is black\\nAI: Black is such a classic choice—it's elegant and can be quite versatile! Do you like wearing black, or do you prefer it in your decor? It can really set a mood, either way!\\nHuman: My favorite animals are dogs\\nAI: Dogs are wonderful companions! They’re known for their loyalty and playful nature. Do you have a dog, or is there a particular breed you love the most? There are so many types, from the spirited Beagle to the gentle Great Dane!\",\n",
       " 'response': 'Driving a red Ferrari through the city sounds exhilarating! Ferraris are renowned for their speed, sleek designs, and that iconic roar of the engine. The vibrant red color adds an extra flair, making it a real head-turner on the streets. Do you have a favorite model in mind? The Ferrari 488 GTB is a fantastic choice with its powerful V8 engine and stunning looks, but the classic Ferrari F40 is a true icon too! What do you imagine doing while driving it around the city?'}"
      ]
     },
     "execution_count": 20,
     "metadata": {},
     "output_type": "execute_result"
    }
   ],
   "execution_count": 20
  },
  {
   "cell_type": "code",
   "id": "c60e52d9-907d-4c29-8720-97019af6b120",
   "metadata": {
    "ExecuteTime": {
     "end_time": "2025-06-16T04:52:21.183395Z",
     "start_time": "2025-06-16T04:52:18.254332Z"
    }
   },
   "source": "conversation_window({\"input\": \"My favorite city is Vancouver\"})",
   "outputs": [
    {
     "name": "stdout",
     "output_type": "stream",
     "text": [
      "\n",
      "\n",
      "\u001B[1m> Entering new ConversationChain chain...\u001B[0m\n",
      "Prompt after formatting:\n",
      "\u001B[32;1m\u001B[1;3mThe following is a friendly conversation between a human and an AI. The AI is talkative and provides lots of specific details from its context. If the AI does not know the answer to a question, it truthfully says it does not know.\n",
      "\n",
      "Current conversation:\n",
      "Human: My favorite color is black\n",
      "AI: Black is such a classic choice—it's elegant and can be quite versatile! Do you like wearing black, or do you prefer it in your decor? It can really set a mood, either way!\n",
      "Human: My favorite animals are dogs\n",
      "AI: Dogs are wonderful companions! They’re known for their loyalty and playful nature. Do you have a dog, or is there a particular breed you love the most? There are so many types, from the spirited Beagle to the gentle Great Dane!\n",
      "Human: I'd like to drive a red Ferrari in the city\n",
      "AI: Driving a red Ferrari through the city sounds exhilarating! Ferraris are renowned for their speed, sleek designs, and that iconic roar of the engine. The vibrant red color adds an extra flair, making it a real head-turner on the streets. Do you have a favorite model in mind? The Ferrari 488 GTB is a fantastic choice with its powerful V8 engine and stunning looks, but the classic Ferrari F40 is a true icon too! What do you imagine doing while driving it around the city?\n",
      "Human: My favorite city is Vancouver\n",
      "AI:\u001B[0m\n",
      "\n",
      "\u001B[1m> Finished chain.\u001B[0m\n"
     ]
    },
    {
     "data": {
      "text/plain": [
       "{'input': 'My favorite city is Vancouver',\n",
       " 'history': \"Human: My favorite color is black\\nAI: Black is such a classic choice—it's elegant and can be quite versatile! Do you like wearing black, or do you prefer it in your decor? It can really set a mood, either way!\\nHuman: My favorite animals are dogs\\nAI: Dogs are wonderful companions! They’re known for their loyalty and playful nature. Do you have a dog, or is there a particular breed you love the most? There are so many types, from the spirited Beagle to the gentle Great Dane!\\nHuman: I'd like to drive a red Ferrari in the city\\nAI: Driving a red Ferrari through the city sounds exhilarating! Ferraris are renowned for their speed, sleek designs, and that iconic roar of the engine. The vibrant red color adds an extra flair, making it a real head-turner on the streets. Do you have a favorite model in mind? The Ferrari 488 GTB is a fantastic choice with its powerful V8 engine and stunning looks, but the classic Ferrari F40 is a true icon too! What do you imagine doing while driving it around the city?\",\n",
       " 'response': \"Vancouver is such a beautiful city! It's surrounded by stunning natural scenery with mountains, ocean, and lush green parks. The combination of urban life and nature is just incredible! You can stroll along the seawall, explore Stanley Park, or check out Granville Island's vibrant market. Do you have a favorite spot in Vancouver or a specific activity you enjoy doing there, like hiking, dining, or attending events? The city also has a diverse culinary scene with influences from all over the world!\"}"
      ]
     },
     "execution_count": 21,
     "metadata": {},
     "output_type": "execute_result"
    }
   ],
   "execution_count": 21
  },
  {
   "cell_type": "code",
   "id": "0c173dc8-3fe5-4913-942c-89f58c3a2486",
   "metadata": {
    "ExecuteTime": {
     "end_time": "2025-06-16T04:53:28.266522Z",
     "start_time": "2025-06-16T04:53:25.664771Z"
    }
   },
   "source": [
    "conversation_window({\"input\": \"My favorite season is summer\"})"
   ],
   "outputs": [
    {
     "name": "stdout",
     "output_type": "stream",
     "text": [
      "\n",
      "\n",
      "\u001B[1m> Entering new ConversationChain chain...\u001B[0m\n",
      "Prompt after formatting:\n",
      "\u001B[32;1m\u001B[1;3mThe following is a friendly conversation between a human and an AI. The AI is talkative and provides lots of specific details from its context. If the AI does not know the answer to a question, it truthfully says it does not know.\n",
      "\n",
      "Current conversation:\n",
      "Human: My favorite animals are dogs\n",
      "AI: Dogs are wonderful companions! They’re known for their loyalty and playful nature. Do you have a dog, or is there a particular breed you love the most? There are so many types, from the spirited Beagle to the gentle Great Dane!\n",
      "Human: I'd like to drive a red Ferrari in the city\n",
      "AI: Driving a red Ferrari through the city sounds exhilarating! Ferraris are renowned for their speed, sleek designs, and that iconic roar of the engine. The vibrant red color adds an extra flair, making it a real head-turner on the streets. Do you have a favorite model in mind? The Ferrari 488 GTB is a fantastic choice with its powerful V8 engine and stunning looks, but the classic Ferrari F40 is a true icon too! What do you imagine doing while driving it around the city?\n",
      "Human: My favorite city is Vancouver\n",
      "AI: Vancouver is such a beautiful city! It's surrounded by stunning natural scenery with mountains, ocean, and lush green parks. The combination of urban life and nature is just incredible! You can stroll along the seawall, explore Stanley Park, or check out Granville Island's vibrant market. Do you have a favorite spot in Vancouver or a specific activity you enjoy doing there, like hiking, dining, or attending events? The city also has a diverse culinary scene with influences from all over the world!\n",
      "Human: My favorite season is summer\n",
      "AI:\u001B[0m\n",
      "\n",
      "\u001B[1m> Finished chain.\u001B[0m\n"
     ]
    },
    {
     "data": {
      "text/plain": [
       "{'input': 'My favorite season is summer',\n",
       " 'history': \"Human: My favorite animals are dogs\\nAI: Dogs are wonderful companions! They’re known for their loyalty and playful nature. Do you have a dog, or is there a particular breed you love the most? There are so many types, from the spirited Beagle to the gentle Great Dane!\\nHuman: I'd like to drive a red Ferrari in the city\\nAI: Driving a red Ferrari through the city sounds exhilarating! Ferraris are renowned for their speed, sleek designs, and that iconic roar of the engine. The vibrant red color adds an extra flair, making it a real head-turner on the streets. Do you have a favorite model in mind? The Ferrari 488 GTB is a fantastic choice with its powerful V8 engine and stunning looks, but the classic Ferrari F40 is a true icon too! What do you imagine doing while driving it around the city?\\nHuman: My favorite city is Vancouver\\nAI: Vancouver is such a beautiful city! It's surrounded by stunning natural scenery with mountains, ocean, and lush green parks. The combination of urban life and nature is just incredible! You can stroll along the seawall, explore Stanley Park, or check out Granville Island's vibrant market. Do you have a favorite spot in Vancouver or a specific activity you enjoy doing there, like hiking, dining, or attending events? The city also has a diverse culinary scene with influences from all over the world!\",\n",
       " 'response': \"Summer is such a delightful season! It's the time for warm weather, longer days, and outdoor adventures. Whether it's going to the beach, enjoying a picnic in the park, or taking part in summer festivals, there’s so much to love. Plus, summer is great for fresh fruits and vegetables, like juicy watermelons, ripe peaches, and vibrant tomatoes! Do you have any favorite summer activities or traditions? Perhaps you enjoy traveling, hiking, or simply soaking up the sun?\"}"
      ]
     },
     "execution_count": 22,
     "metadata": {},
     "output_type": "execute_result"
    }
   ],
   "execution_count": 22
  },
  {
   "cell_type": "code",
   "id": "239714b5-e8df-4085-b1df-4409388a8d6e",
   "metadata": {
    "ExecuteTime": {
     "end_time": "2025-06-16T04:53:42.807569Z",
     "start_time": "2025-06-16T04:53:41.691196Z"
    }
   },
   "source": [
    "conversation_window({\"input\": \"What is my favorite color?\"})"
   ],
   "outputs": [
    {
     "name": "stdout",
     "output_type": "stream",
     "text": [
      "\n",
      "\n",
      "\u001B[1m> Entering new ConversationChain chain...\u001B[0m\n",
      "Prompt after formatting:\n",
      "\u001B[32;1m\u001B[1;3mThe following is a friendly conversation between a human and an AI. The AI is talkative and provides lots of specific details from its context. If the AI does not know the answer to a question, it truthfully says it does not know.\n",
      "\n",
      "Current conversation:\n",
      "Human: I'd like to drive a red Ferrari in the city\n",
      "AI: Driving a red Ferrari through the city sounds exhilarating! Ferraris are renowned for their speed, sleek designs, and that iconic roar of the engine. The vibrant red color adds an extra flair, making it a real head-turner on the streets. Do you have a favorite model in mind? The Ferrari 488 GTB is a fantastic choice with its powerful V8 engine and stunning looks, but the classic Ferrari F40 is a true icon too! What do you imagine doing while driving it around the city?\n",
      "Human: My favorite city is Vancouver\n",
      "AI: Vancouver is such a beautiful city! It's surrounded by stunning natural scenery with mountains, ocean, and lush green parks. The combination of urban life and nature is just incredible! You can stroll along the seawall, explore Stanley Park, or check out Granville Island's vibrant market. Do you have a favorite spot in Vancouver or a specific activity you enjoy doing there, like hiking, dining, or attending events? The city also has a diverse culinary scene with influences from all over the world!\n",
      "Human: My favorite season is summer\n",
      "AI: Summer is such a delightful season! It's the time for warm weather, longer days, and outdoor adventures. Whether it's going to the beach, enjoying a picnic in the park, or taking part in summer festivals, there’s so much to love. Plus, summer is great for fresh fruits and vegetables, like juicy watermelons, ripe peaches, and vibrant tomatoes! Do you have any favorite summer activities or traditions? Perhaps you enjoy traveling, hiking, or simply soaking up the sun?\n",
      "Human: What is my favorite color?\n",
      "AI:\u001B[0m\n",
      "\n",
      "\u001B[1m> Finished chain.\u001B[0m\n"
     ]
    },
    {
     "data": {
      "text/plain": [
       "{'input': 'What is my favorite color?',\n",
       " 'history': \"Human: I'd like to drive a red Ferrari in the city\\nAI: Driving a red Ferrari through the city sounds exhilarating! Ferraris are renowned for their speed, sleek designs, and that iconic roar of the engine. The vibrant red color adds an extra flair, making it a real head-turner on the streets. Do you have a favorite model in mind? The Ferrari 488 GTB is a fantastic choice with its powerful V8 engine and stunning looks, but the classic Ferrari F40 is a true icon too! What do you imagine doing while driving it around the city?\\nHuman: My favorite city is Vancouver\\nAI: Vancouver is such a beautiful city! It's surrounded by stunning natural scenery with mountains, ocean, and lush green parks. The combination of urban life and nature is just incredible! You can stroll along the seawall, explore Stanley Park, or check out Granville Island's vibrant market. Do you have a favorite spot in Vancouver or a specific activity you enjoy doing there, like hiking, dining, or attending events? The city also has a diverse culinary scene with influences from all over the world!\\nHuman: My favorite season is summer\\nAI: Summer is such a delightful season! It's the time for warm weather, longer days, and outdoor adventures. Whether it's going to the beach, enjoying a picnic in the park, or taking part in summer festivals, there’s so much to love. Plus, summer is great for fresh fruits and vegetables, like juicy watermelons, ripe peaches, and vibrant tomatoes! Do you have any favorite summer activities or traditions? Perhaps you enjoy traveling, hiking, or simply soaking up the sun?\",\n",
       " 'response': \"I don't know your favorite color! But if you want to share it, I'd love to hear about it. Colors can have such interesting meanings and effects on our moods. Do you have a particular color that you find yourself drawn to?\"}"
      ]
     },
     "execution_count": 23,
     "metadata": {},
     "output_type": "execute_result"
    }
   ],
   "execution_count": 23
  },
  {
   "cell_type": "code",
   "id": "56db514f-da49-4cea-a424-0977969d49c3",
   "metadata": {
    "ExecuteTime": {
     "end_time": "2025-06-16T04:54:15.121165Z",
     "start_time": "2025-06-16T04:54:13.114485Z"
    }
   },
   "source": "conversation_window({\"input\": \"My favorite city is Vancouver, but I also like Paris\"})",
   "outputs": [
    {
     "name": "stdout",
     "output_type": "stream",
     "text": [
      "\n",
      "\n",
      "\u001B[1m> Entering new ConversationChain chain...\u001B[0m\n",
      "Prompt after formatting:\n",
      "\u001B[32;1m\u001B[1;3mThe following is a friendly conversation between a human and an AI. The AI is talkative and provides lots of specific details from its context. If the AI does not know the answer to a question, it truthfully says it does not know.\n",
      "\n",
      "Current conversation:\n",
      "Human: My favorite city is Vancouver\n",
      "AI: Vancouver is such a beautiful city! It's surrounded by stunning natural scenery with mountains, ocean, and lush green parks. The combination of urban life and nature is just incredible! You can stroll along the seawall, explore Stanley Park, or check out Granville Island's vibrant market. Do you have a favorite spot in Vancouver or a specific activity you enjoy doing there, like hiking, dining, or attending events? The city also has a diverse culinary scene with influences from all over the world!\n",
      "Human: My favorite season is summer\n",
      "AI: Summer is such a delightful season! It's the time for warm weather, longer days, and outdoor adventures. Whether it's going to the beach, enjoying a picnic in the park, or taking part in summer festivals, there’s so much to love. Plus, summer is great for fresh fruits and vegetables, like juicy watermelons, ripe peaches, and vibrant tomatoes! Do you have any favorite summer activities or traditions? Perhaps you enjoy traveling, hiking, or simply soaking up the sun?\n",
      "Human: What is my favorite color?\n",
      "AI: I don't know your favorite color! But if you want to share it, I'd love to hear about it. Colors can have such interesting meanings and effects on our moods. Do you have a particular color that you find yourself drawn to?\n",
      "Human: My favorite city is Vancouver, but I also like Paris\n",
      "AI:\u001B[0m\n",
      "\n",
      "\u001B[1m> Finished chain.\u001B[0m\n"
     ]
    },
    {
     "data": {
      "text/plain": [
       "{'input': 'My favorite city is Vancouver, but I also like Paris',\n",
       " 'history': \"Human: My favorite city is Vancouver\\nAI: Vancouver is such a beautiful city! It's surrounded by stunning natural scenery with mountains, ocean, and lush green parks. The combination of urban life and nature is just incredible! You can stroll along the seawall, explore Stanley Park, or check out Granville Island's vibrant market. Do you have a favorite spot in Vancouver or a specific activity you enjoy doing there, like hiking, dining, or attending events? The city also has a diverse culinary scene with influences from all over the world!\\nHuman: My favorite season is summer\\nAI: Summer is such a delightful season! It's the time for warm weather, longer days, and outdoor adventures. Whether it's going to the beach, enjoying a picnic in the park, or taking part in summer festivals, there’s so much to love. Plus, summer is great for fresh fruits and vegetables, like juicy watermelons, ripe peaches, and vibrant tomatoes! Do you have any favorite summer activities or traditions? Perhaps you enjoy traveling, hiking, or simply soaking up the sun?\\nHuman: What is my favorite color?\\nAI: I don't know your favorite color! But if you want to share it, I'd love to hear about it. Colors can have such interesting meanings and effects on our moods. Do you have a particular color that you find yourself drawn to?\",\n",
       " 'response': \"Paris is a fantastic city as well! It's known for its romantic ambiance, iconic landmarks like the Eiffel Tower, the Louvre, and Notre-Dame Cathedral, and its rich history. The charming streets of Montmartre and the Seine River provide a picturesque backdrop for exploring the city's art, culture, and delicious cuisine. Do you have a favorite spot in Paris or an experience that stands out to you? Perhaps a particular café you enjoyed, a museum you loved, or a memorable moment you had while wandering the city? I’d love to hear about it!\"}"
      ]
     },
     "execution_count": 24,
     "metadata": {},
     "output_type": "execute_result"
    }
   ],
   "execution_count": 24
  },
  {
   "metadata": {
    "ExecuteTime": {
     "end_time": "2025-06-16T04:55:30.232941Z",
     "start_time": "2025-06-16T04:55:28.026210Z"
    }
   },
   "cell_type": "code",
   "source": "conversation_window({\"input\": \"Actually, I do. Le COnsulat is my favorite restaurant in Paris. I love their food!. I Also like the Louvre Museum.\"})",
   "id": "f2d049cbb13a3248",
   "outputs": [
    {
     "name": "stdout",
     "output_type": "stream",
     "text": [
      "\n",
      "\n",
      "\u001B[1m> Entering new ConversationChain chain...\u001B[0m\n",
      "Prompt after formatting:\n",
      "\u001B[32;1m\u001B[1;3mThe following is a friendly conversation between a human and an AI. The AI is talkative and provides lots of specific details from its context. If the AI does not know the answer to a question, it truthfully says it does not know.\n",
      "\n",
      "Current conversation:\n",
      "Human: My favorite season is summer\n",
      "AI: Summer is such a delightful season! It's the time for warm weather, longer days, and outdoor adventures. Whether it's going to the beach, enjoying a picnic in the park, or taking part in summer festivals, there’s so much to love. Plus, summer is great for fresh fruits and vegetables, like juicy watermelons, ripe peaches, and vibrant tomatoes! Do you have any favorite summer activities or traditions? Perhaps you enjoy traveling, hiking, or simply soaking up the sun?\n",
      "Human: What is my favorite color?\n",
      "AI: I don't know your favorite color! But if you want to share it, I'd love to hear about it. Colors can have such interesting meanings and effects on our moods. Do you have a particular color that you find yourself drawn to?\n",
      "Human: My favorite city is Vancouver, but I also like Paris\n",
      "AI: Paris is a fantastic city as well! It's known for its romantic ambiance, iconic landmarks like the Eiffel Tower, the Louvre, and Notre-Dame Cathedral, and its rich history. The charming streets of Montmartre and the Seine River provide a picturesque backdrop for exploring the city's art, culture, and delicious cuisine. Do you have a favorite spot in Paris or an experience that stands out to you? Perhaps a particular café you enjoyed, a museum you loved, or a memorable moment you had while wandering the city? I’d love to hear about it!\n",
      "Human: Actually, I do. Le COnsulat is my favorite restaurant in Paris. I love their food!. I Also like the Louvre Museum.\n",
      "AI:\u001B[0m\n",
      "\n",
      "\u001B[1m> Finished chain.\u001B[0m\n"
     ]
    },
    {
     "data": {
      "text/plain": [
       "{'input': 'Actually, I do. Le COnsulat is my favorite restaurant in Paris. I love their food!. I Also like the Louvre Museum.',\n",
       " 'history': \"Human: My favorite season is summer\\nAI: Summer is such a delightful season! It's the time for warm weather, longer days, and outdoor adventures. Whether it's going to the beach, enjoying a picnic in the park, or taking part in summer festivals, there’s so much to love. Plus, summer is great for fresh fruits and vegetables, like juicy watermelons, ripe peaches, and vibrant tomatoes! Do you have any favorite summer activities or traditions? Perhaps you enjoy traveling, hiking, or simply soaking up the sun?\\nHuman: What is my favorite color?\\nAI: I don't know your favorite color! But if you want to share it, I'd love to hear about it. Colors can have such interesting meanings and effects on our moods. Do you have a particular color that you find yourself drawn to?\\nHuman: My favorite city is Vancouver, but I also like Paris\\nAI: Paris is a fantastic city as well! It's known for its romantic ambiance, iconic landmarks like the Eiffel Tower, the Louvre, and Notre-Dame Cathedral, and its rich history. The charming streets of Montmartre and the Seine River provide a picturesque backdrop for exploring the city's art, culture, and delicious cuisine. Do you have a favorite spot in Paris or an experience that stands out to you? Perhaps a particular café you enjoyed, a museum you loved, or a memorable moment you had while wandering the city? I’d love to hear about it!\",\n",
       " 'response': \"Le Consulat is such a charming restaurant! Located in the heart of Montmartre, it's known for its classic French cuisine and delightful atmosphere. The picturesque facade makes it a great spot for a photo, too! What dishes do you enjoy there? \\n\\nAs for the Louvre, it's one of the largest and most celebrated art museums in the world! Home to thousands of works of art, including the Mona Lisa and the Venus de Milo, walking through its halls feels like a journey through history. Did you have a favorite masterpiece or exhibit that really captured your attention during your visit?\"}"
      ]
     },
     "execution_count": 25,
     "metadata": {},
     "output_type": "execute_result"
    }
   ],
   "execution_count": 25
  },
  {
   "cell_type": "markdown",
   "id": "1e38dd80-2f5f-427f-81fd-d7894ce98e8b",
   "metadata": {},
   "source": [
    "## Conversation Token Buffer Memory\n",
    "Similar to the previous one, but this time **you can limit the number of tokens stored in memory**."
   ]
  },
  {
   "cell_type": "markdown",
   "id": "e8bf7137-b952-4874-ae92-a25d46d253d9",
   "metadata": {},
   "source": [
    "If you are using the pre-loaded poetry shell, you do not need to install the following package because it is already pre-loaded for you:"
   ]
  },
  {
   "cell_type": "code",
   "execution_count": null,
   "id": "d549bb9c-9c73-4739-b0dc-ac6bad69ca69",
   "metadata": {},
   "outputs": [],
   "source": [
    "#!pip install tiktoken"
   ]
  },
  {
   "cell_type": "code",
   "id": "98a086fa-235c-4179-9f76-30453b2457f9",
   "metadata": {
    "ExecuteTime": {
     "end_time": "2025-06-16T04:56:22.679144Z",
     "start_time": "2025-06-16T04:56:22.671391Z"
    }
   },
   "source": [
    "from langchain.memory import ConversationTokenBufferMemory"
   ],
   "outputs": [],
   "execution_count": 26
  },
  {
   "cell_type": "code",
   "id": "d203b6a0-4657-46ea-b8d1-6cce499d79d3",
   "metadata": {
    "ExecuteTime": {
     "end_time": "2025-06-16T04:56:32.996867Z",
     "start_time": "2025-06-16T04:56:32.993130Z"
    }
   },
   "source": [
    "token_memory = ConversationTokenBufferMemory(\n",
    "    llm=llm,\n",
    "    max_token_limit=50\n",
    ")"
   ],
   "outputs": [
    {
     "name": "stderr",
     "output_type": "stream",
     "text": [
      "/var/folders/r4/zk4dfhln1l78pwrms6p0867h0000gn/T/ipykernel_1997/1318029275.py:1: LangChainDeprecationWarning: Please see the migration guide at: https://python.langchain.com/docs/versions/migrating_memory/\n",
      "  token_memory = ConversationTokenBufferMemory(\n"
     ]
    }
   ],
   "execution_count": 27
  },
  {
   "cell_type": "code",
   "id": "9163cbcd-3ea9-4c17-9ee4-3f469eb42b92",
   "metadata": {
    "ExecuteTime": {
     "end_time": "2025-06-16T04:56:45.386276Z",
     "start_time": "2025-06-16T04:56:45.380213Z"
    }
   },
   "source": [
    "conversation_token = ConversationChain(\n",
    "    llm=llm, \n",
    "    memory = token_memory,\n",
    "    verbose=True\n",
    ")"
   ],
   "outputs": [],
   "execution_count": 28
  },
  {
   "cell_type": "markdown",
   "id": "582e552b-f1b7-41f8-abbf-60e9caf6a8e5",
   "metadata": {},
   "source": [
    "## Conversation Summary Memory\n",
    "**Stores a summary** of the previous conversational exchanges."
   ]
  },
  {
   "cell_type": "code",
   "id": "470498d0-240c-4ed3-ad5c-7459f1ef1083",
   "metadata": {
    "ExecuteTime": {
     "end_time": "2025-06-16T04:56:59.960274Z",
     "start_time": "2025-06-16T04:56:59.956312Z"
    }
   },
   "source": [
    "from langchain.memory import ConversationSummaryBufferMemory"
   ],
   "outputs": [],
   "execution_count": 29
  },
  {
   "cell_type": "code",
   "id": "30faeb8c-b267-44e6-b05d-012b357946c8",
   "metadata": {
    "ExecuteTime": {
     "end_time": "2025-06-16T04:57:11.723369Z",
     "start_time": "2025-06-16T04:57:11.716966Z"
    }
   },
   "source": [
    "summary_memory = ConversationSummaryBufferMemory(\n",
    "    llm=llm,\n",
    "    max_token_limit=100\n",
    ")"
   ],
   "outputs": [
    {
     "name": "stderr",
     "output_type": "stream",
     "text": [
      "/var/folders/r4/zk4dfhln1l78pwrms6p0867h0000gn/T/ipykernel_1997/4179621716.py:1: LangChainDeprecationWarning: Please see the migration guide at: https://python.langchain.com/docs/versions/migrating_memory/\n",
      "  summary_memory = ConversationSummaryBufferMemory(\n"
     ]
    }
   ],
   "execution_count": 30
  },
  {
   "cell_type": "code",
   "id": "c77ec6c6-d1ea-4fca-ada4-288557995613",
   "metadata": {
    "ExecuteTime": {
     "end_time": "2025-06-16T04:57:24.475992Z",
     "start_time": "2025-06-16T04:57:24.471577Z"
    }
   },
   "source": [
    "conversation_summary = ConversationChain(\n",
    "    llm=llm, \n",
    "    memory = summary_memory,\n",
    "    verbose=True\n",
    ")"
   ],
   "outputs": [],
   "execution_count": 31
  },
  {
   "cell_type": "code",
   "id": "848cbaa3-150f-4985-965b-9161aebc6b1c",
   "metadata": {
    "ExecuteTime": {
     "end_time": "2025-06-16T04:57:52.175349Z",
     "start_time": "2025-06-16T04:57:44.138516Z"
    }
   },
   "source": [
    "conversation_summary({\"input\": \"\"\"Kurt Cobain dropped out of high school, \n",
    "then worked there as a janitor Even though he was by all accounts a slob, \n",
    "Kurt Cobain worked as a janitor at Weatherwax High School, not long after \n",
    "dropping out of that very school. The dancing janitor in the \n",
    "\"Smells Like Teen Spirit\" music video was an inside joke for \n",
    "those who knew of Cobain's old job.\n",
    "\"\"\"})"
   ],
   "outputs": [
    {
     "name": "stdout",
     "output_type": "stream",
     "text": [
      "\n",
      "\n",
      "\u001B[1m> Entering new ConversationChain chain...\u001B[0m\n",
      "Prompt after formatting:\n",
      "\u001B[32;1m\u001B[1;3mThe following is a friendly conversation between a human and an AI. The AI is talkative and provides lots of specific details from its context. If the AI does not know the answer to a question, it truthfully says it does not know.\n",
      "\n",
      "Current conversation:\n",
      "\n",
      "Human: Kurt Cobain dropped out of high school, \n",
      "then worked there as a janitor Even though he was by all accounts a slob, \n",
      "Kurt Cobain worked as a janitor at Weatherwax High School, not long after \n",
      "dropping out of that very school. The dancing janitor in the \n",
      "\"Smells Like Teen Spirit\" music video was an inside joke for \n",
      "those who knew of Cobain's old job.\n",
      "\n",
      "AI:\u001B[0m\n",
      "\n",
      "\u001B[1m> Finished chain.\u001B[0m\n"
     ]
    },
    {
     "data": {
      "text/plain": [
       "{'input': 'Kurt Cobain dropped out of high school, \\nthen worked there as a janitor Even though he was by all accounts a slob, \\nKurt Cobain worked as a janitor at Weatherwax High School, not long after \\ndropping out of that very school. The dancing janitor in the \\n\"Smells Like Teen Spirit\" music video was an inside joke for \\nthose who knew of Cobain\\'s old job.\\n',\n",
       " 'history': '',\n",
       " 'response': 'That\\'s a fascinating piece of trivia! Kurt Cobain\\'s time as a janitor at Weatherwax High School is often overlooked in discussions about his early life. It\\'s interesting how those details sometimes find their way into his music and videos. The \"Smells Like Teen Spirit\" music video captured the spirit of youth and rebellion, and incorporating an element like the dancing janitor creates a playful link to Cobain\\'s own history. It\\'s a reminder of how personal experiences can shape artistic expression. Did you know that Cobain had a strong disdain for mainstream culture, which is reflected in the raw authenticity of his work? His unique blend of punk rock influences and introspective lyrics made Nirvana a voice for a generation. Do you have a favorite Nirvana song or moment?'}"
      ]
     },
     "execution_count": 32,
     "metadata": {},
     "output_type": "execute_result"
    }
   ],
   "execution_count": 32
  },
  {
   "cell_type": "code",
   "id": "26545b98-d290-48fe-b3e9-341ff195ccd4",
   "metadata": {
    "ExecuteTime": {
     "end_time": "2025-06-16T04:58:37.245668Z",
     "start_time": "2025-06-16T04:58:28.896376Z"
    }
   },
   "source": [
    "conversation_summary({\"input\": \"\"\"\n",
    "There were at least five different drummers in the band \n",
    "before Dave Grohl. Cobain and Novoselic were always members \n",
    "of Nirvana—formerly known as Skid Row, Pen Cap Chew, Bliss, \n",
    "and Ted Ed Fred—but finding a permanent drummer proved to be \n",
    "even harder than coming up with a decent band name. In the \n",
    "beginning, there was trivia answer Aaron Burckhard, who pissed \n",
    "off Cobain by getting Kurt's car impounded after being arrested \n",
    "for fighting with a police officer. Then there was Melvins \n",
    "drummer Dale Crover, who pounded the skins for Cobain and \n",
    "Novoselic on their first demo tape before moving to San Francisco. \n",
    "Next came Dave Foster, who got arrested for assaulting the \n",
    "son of the mayor of Cosmopolis, Washington. Burckhard briefly \n",
    "returned before announcing he was too hungover to practice one day. \n",
    "Then a mutual friend introduced Cobain and Novoselic to Chad \n",
    "Channing, who hung around for two years before the group's \n",
    "co-founders decided he wasn't cutting it anymore. Mudhoney \n",
    "drummer Dan Peters played on the \"Sliver\" single.\n",
    "\"\"\"})"
   ],
   "outputs": [
    {
     "name": "stdout",
     "output_type": "stream",
     "text": [
      "\n",
      "\n",
      "\u001B[1m> Entering new ConversationChain chain...\u001B[0m\n",
      "Prompt after formatting:\n",
      "\u001B[32;1m\u001B[1;3mThe following is a friendly conversation between a human and an AI. The AI is talkative and provides lots of specific details from its context. If the AI does not know the answer to a question, it truthfully says it does not know.\n",
      "\n",
      "Current conversation:\n",
      "System: The human shares that Kurt Cobain dropped out of high school and later worked as a janitor at Weatherwax High School, mentioning that the dancing janitor in the \"Smells Like Teen Spirit\" music video was an inside joke related to Cobain's past. The AI responds by highlighting the often-overlooked details of Cobain's life and how they influence his music and videos. It notes the playful connection in the music video and reflects on Cobain's disdain for mainstream culture, which contributed to Nirvana's authentic artistic expression. The AI then inquires if the human has a favorite Nirvana song or moment.\n",
      "Human: \n",
      "There were at least five different drummers in the band \n",
      "before Dave Grohl. Cobain and Novoselic were always members \n",
      "of Nirvana—formerly known as Skid Row, Pen Cap Chew, Bliss, \n",
      "and Ted Ed Fred—but finding a permanent drummer proved to be \n",
      "even harder than coming up with a decent band name. In the \n",
      "beginning, there was trivia answer Aaron Burckhard, who pissed \n",
      "off Cobain by getting Kurt's car impounded after being arrested \n",
      "for fighting with a police officer. Then there was Melvins \n",
      "drummer Dale Crover, who pounded the skins for Cobain and \n",
      "Novoselic on their first demo tape before moving to San Francisco. \n",
      "Next came Dave Foster, who got arrested for assaulting the \n",
      "son of the mayor of Cosmopolis, Washington. Burckhard briefly \n",
      "returned before announcing he was too hungover to practice one day. \n",
      "Then a mutual friend introduced Cobain and Novoselic to Chad \n",
      "Channing, who hung around for two years before the group's \n",
      "co-founders decided he wasn't cutting it anymore. Mudhoney \n",
      "drummer Dan Peters played on the \"Sliver\" single.\n",
      "\n",
      "AI:\u001B[0m\n",
      "\n",
      "\u001B[1m> Finished chain.\u001B[0m\n"
     ]
    },
    {
     "data": {
      "text/plain": [
       "{'input': '\\nThere were at least five different drummers in the band \\nbefore Dave Grohl. Cobain and Novoselic were always members \\nof Nirvana—formerly known as Skid Row, Pen Cap Chew, Bliss, \\nand Ted Ed Fred—but finding a permanent drummer proved to be \\neven harder than coming up with a decent band name. In the \\nbeginning, there was trivia answer Aaron Burckhard, who pissed \\noff Cobain by getting Kurt\\'s car impounded after being arrested \\nfor fighting with a police officer. Then there was Melvins \\ndrummer Dale Crover, who pounded the skins for Cobain and \\nNovoselic on their first demo tape before moving to San Francisco. \\nNext came Dave Foster, who got arrested for assaulting the \\nson of the mayor of Cosmopolis, Washington. Burckhard briefly \\nreturned before announcing he was too hungover to practice one day. \\nThen a mutual friend introduced Cobain and Novoselic to Chad \\nChanning, who hung around for two years before the group\\'s \\nco-founders decided he wasn\\'t cutting it anymore. Mudhoney \\ndrummer Dan Peters played on the \"Sliver\" single.\\n',\n",
       " 'history': 'System: The human shares that Kurt Cobain dropped out of high school and later worked as a janitor at Weatherwax High School, mentioning that the dancing janitor in the \"Smells Like Teen Spirit\" music video was an inside joke related to Cobain\\'s past. The AI responds by highlighting the often-overlooked details of Cobain\\'s life and how they influence his music and videos. It notes the playful connection in the music video and reflects on Cobain\\'s disdain for mainstream culture, which contributed to Nirvana\\'s authentic artistic expression. The AI then inquires if the human has a favorite Nirvana song or moment.',\n",
       " 'response': 'That\\'s such an interesting and often overlooked part of Nirvana\\'s history! The tumultuous search for a drummer really highlights the band\\'s early struggles to establish their identity. Dave Grohl\\'s eventual arrival in 1990 marked a pivotal moment. His drumming style and energy added a new dimension to Nirvana\\'s sound, which resonated with their audience in a way that their previous drummers didn\\'t quite manage to achieve.\\n\\nIt\\'s fascinating how each of those early drummers brought their unique influences to the table. For example, Aaron Burckhard had that chaotic punk energy, while Dale Crover\\'s ties to the Melvins connected Nirvana to the broader underground scene of the time. And then there\\'s Chad Channing, whose drumming on songs like \"Polly\" and \"Lithium\" has its own charm, even if it didn\\'t quite fit what Cobain and Novoselic wanted as they evolved musically.\\n\\nThe behind-the-scenes dynamics of the band certainly contributed to the raw authenticity we hear in their music. It\\'s like Nirvana was truly a collaborative effort, with each member leaving their mark even if only temporarily. Do you have a favorite story or moment from Nirvana\\'s early days that stands out to you?'}"
      ]
     },
     "execution_count": 33,
     "metadata": {},
     "output_type": "execute_result"
    }
   ],
   "execution_count": 33
  },
  {
   "cell_type": "code",
   "id": "82f1ef76-31d3-4f81-9f16-21111c6b4677",
   "metadata": {
    "ExecuteTime": {
     "end_time": "2025-06-16T04:59:28.698021Z",
     "start_time": "2025-06-16T04:59:20.289283Z"
    }
   },
   "source": [
    "conversation_summary({\"input\": \"\"\"\n",
    "Back in Washington, Crover performed with Cobain and Novoselic \n",
    "on a seven date tour with Sonic Youth in August 1990, before \n",
    "Dave Grohl's band Scream broke up and Melvins frontman Buzz \n",
    "Osbourne introduced Grohl to Cobain and Novoselic, ending the \n",
    "vicious cycle of rotating drummers.\n",
    "\"\"\"})"
   ],
   "outputs": [
    {
     "name": "stdout",
     "output_type": "stream",
     "text": [
      "\n",
      "\n",
      "\u001B[1m> Entering new ConversationChain chain...\u001B[0m\n",
      "Prompt after formatting:\n",
      "\u001B[32;1m\u001B[1;3mThe following is a friendly conversation between a human and an AI. The AI is talkative and provides lots of specific details from its context. If the AI does not know the answer to a question, it truthfully says it does not know.\n",
      "\n",
      "Current conversation:\n",
      "System: The human shares that Kurt Cobain dropped out of high school and later worked as a janitor, explaining the inside joke about the dancing janitor in the \"Smells Like Teen Spirit\" music video. The AI responds by noting the overlooked details of Cobain's life that influenced his art, reflecting on his disdain for mainstream culture and its role in Nirvana's authenticity. The human then discusses the multiple drummers Nirvana had before Dave Grohl, detailing the struggles the band faced in finding a permanent drummer, and mentioning the unique contributions of early drummers like Aaron Burckhard and Dale Crover. The AI comments on how these dynamics informed Nirvana's identity and sound, particularly emphasizing Grohl’s pivotal role and asking the human if they have a favorite story from Nirvana’s early days.\n",
      "Human: \n",
      "Back in Washington, Crover performed with Cobain and Novoselic \n",
      "on a seven date tour with Sonic Youth in August 1990, before \n",
      "Dave Grohl's band Scream broke up and Melvins frontman Buzz \n",
      "Osbourne introduced Grohl to Cobain and Novoselic, ending the \n",
      "vicious cycle of rotating drummers.\n",
      "\n",
      "AI:\u001B[0m\n",
      "\n",
      "\u001B[1m> Finished chain.\u001B[0m\n"
     ]
    },
    {
     "data": {
      "text/plain": [
       "{'input': \"\\nBack in Washington, Crover performed with Cobain and Novoselic \\non a seven date tour with Sonic Youth in August 1990, before \\nDave Grohl's band Scream broke up and Melvins frontman Buzz \\nOsbourne introduced Grohl to Cobain and Novoselic, ending the \\nvicious cycle of rotating drummers.\\n\",\n",
       " 'history': 'System: The human shares that Kurt Cobain dropped out of high school and later worked as a janitor, explaining the inside joke about the dancing janitor in the \"Smells Like Teen Spirit\" music video. The AI responds by noting the overlooked details of Cobain\\'s life that influenced his art, reflecting on his disdain for mainstream culture and its role in Nirvana\\'s authenticity. The human then discusses the multiple drummers Nirvana had before Dave Grohl, detailing the struggles the band faced in finding a permanent drummer, and mentioning the unique contributions of early drummers like Aaron Burckhard and Dale Crover. The AI comments on how these dynamics informed Nirvana\\'s identity and sound, particularly emphasizing Grohl’s pivotal role and asking the human if they have a favorite story from Nirvana’s early days.',\n",
       " 'response': 'That\\'s right! Buzz Osborne played a significant role in bringing Grohl into the Nirvana fold. The connection between all these bands is so fascinating, especially the way they influenced each other within the grunge scene. During that brief tour with Sonic Youth, it must have been an incredible experience for Cobain and Novoselic to share the stage with such a pivotal band in the alternative music movement.\\n\\nGrohl\\'s arrival really solidified Nirvana’s sound. His drumming brought a level of energy and dynamism that was crucial, especially on tracks like \"Smells Like Teen Spirit.\" Not to mention his musical versatility; Grohl contributed not just rhythm but also a lot of creative input. \\n\\nI\\'m curious, do you find the early dynamics of the band, like the rotation of drummers and that tour with Sonic Youth, shaped their music in ways that fans may not fully appreciate? Do you have any favorite moments or specific performances from that era?'}"
      ]
     },
     "execution_count": 34,
     "metadata": {},
     "output_type": "execute_result"
    }
   ],
   "execution_count": 34
  },
  {
   "cell_type": "code",
   "id": "ba74e086-8885-49a5-b35c-264c0e0f22ce",
   "metadata": {
    "ExecuteTime": {
     "end_time": "2025-06-16T04:59:42.555755Z",
     "start_time": "2025-06-16T04:59:42.543724Z"
    }
   },
   "source": [
    "print(summary_memory.buffer)"
   ],
   "outputs": [
    {
     "name": "stdout",
     "output_type": "stream",
     "text": [
      "System: The human shares that Kurt Cobain dropped out of high school and worked as a janitor, explaining the inside joke about the dancing janitor in the \"Smells Like Teen Spirit\" music video. The AI notes overlooked details of Cobain's life that influenced his art and reflects on his disdain for mainstream culture and its role in Nirvana's authenticity. The human discusses Nirvana's multiple drummers before Dave Grohl, detailing struggles in finding a permanent drummer and unique contributions from early drummers like Aaron Burckhard and Dale Crover. The AI comments on how these dynamics informed Nirvana's identity and sound, emphasizing Grohl's pivotal role and asking the human about their favorite stories from Nirvana’s early days. The human mentions Crover's performance with Cobain and Novoselic on a tour with Sonic Youth in 1990 and how Buzz Osbourne introduced Grohl to Nirvana, ending their drummer rotation. The AI highlights Grohl's significant impact on Nirvana's sound and energy, asks the human about the influence of early band dynamics on their music, and inquires about favorite moments from that era.\n"
     ]
    }
   ],
   "execution_count": 35
  },
  {
   "cell_type": "code",
   "id": "ed27a282-9e83-47cc-bfb7-739baf36ce36",
   "metadata": {
    "ExecuteTime": {
     "end_time": "2025-06-16T04:59:52.410105Z",
     "start_time": "2025-06-16T04:59:52.405081Z"
    }
   },
   "source": [
    "summary_memory.load_memory_variables({})"
   ],
   "outputs": [
    {
     "data": {
      "text/plain": [
       "{'history': 'System: The human shares that Kurt Cobain dropped out of high school and worked as a janitor, explaining the inside joke about the dancing janitor in the \"Smells Like Teen Spirit\" music video. The AI notes overlooked details of Cobain\\'s life that influenced his art and reflects on his disdain for mainstream culture and its role in Nirvana\\'s authenticity. The human discusses Nirvana\\'s multiple drummers before Dave Grohl, detailing struggles in finding a permanent drummer and unique contributions from early drummers like Aaron Burckhard and Dale Crover. The AI comments on how these dynamics informed Nirvana\\'s identity and sound, emphasizing Grohl\\'s pivotal role and asking the human about their favorite stories from Nirvana’s early days. The human mentions Crover\\'s performance with Cobain and Novoselic on a tour with Sonic Youth in 1990 and how Buzz Osbourne introduced Grohl to Nirvana, ending their drummer rotation. The AI highlights Grohl\\'s significant impact on Nirvana\\'s sound and energy, asks the human about the influence of early band dynamics on their music, and inquires about favorite moments from that era.'}"
      ]
     },
     "execution_count": 36,
     "metadata": {},
     "output_type": "execute_result"
    }
   ],
   "execution_count": 36
  },
  {
   "cell_type": "markdown",
   "id": "d746a4af-102f-4cca-83b4-0bec3c9010c5",
   "metadata": {},
   "source": [
    "## How to execute the code from Visual Studio Code\n",
    "* In Visual Studio Code, see the file 001-conversation-buffer.py\n",
    "* In terminal, make sure you are in the directory of the file and run:\n",
    "    * python 001-conversation-buffer.py"
   ]
  },
  {
   "cell_type": "code",
   "execution_count": null,
   "id": "0b0d4ea9-7225-4a34-a78b-8e78702189fd",
   "metadata": {},
   "outputs": [],
   "source": []
  }
 ],
 "metadata": {
  "kernelspec": {
   "display_name": "Python 3 (ipykernel)",
   "language": "python",
   "name": "python3"
  },
  "language_info": {
   "codemirror_mode": {
    "name": "ipython",
    "version": 3
   },
   "file_extension": ".py",
   "mimetype": "text/x-python",
   "name": "python",
   "nbconvert_exporter": "python",
   "pygments_lexer": "ipython3",
   "version": "3.11.4"
  }
 },
 "nbformat": 4,
 "nbformat_minor": 5
}
